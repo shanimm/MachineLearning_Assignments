{
 "cells": [
  {
   "cell_type": "markdown",
   "metadata": {},
   "source": [
    "# Exercise 2\n",
    "\n",
    "##  KNN Classifier\n",
    "\n",
    "In this exercise we implement the KNN for classification of the Iris dataset\n",
    "\n",
    "First, understand the dataset and its contents by finding the keys and reading the description of the dataset by running the code block below. Then answer the following questions."
   ]
  },
  {
   "cell_type": "code",
   "execution_count": 14,
   "metadata": {},
   "outputs": [
    {
     "name": "stdout",
     "output_type": "stream",
     "text": [
      "Keys of the iris_dataset is: dict_keys(['data', 'target', 'target_names', 'DESCR', 'feature_names'])\n"
     ]
    }
   ],
   "source": [
    "import numpy as np\n",
    "from sklearn.datasets import load_iris\n",
    "iris_dataset=load_iris() #creates an object that contains the iris dataset\n",
    "print('Keys of the iris_dataset is:', iris_dataset.keys())"
   ]
  },
  {
   "cell_type": "markdown",
   "metadata": {},
   "source": [
    "print(iris_dataset.DESCR)"
   ]
  },
  {
   "cell_type": "markdown",
   "metadata": {},
   "source": [
    "#### A) To better understand the stucture of the dataset, answer the following\n",
    "1. Find type and shape of ‘data’ in the Iris_dataset\n",
    "2. Print the first five rows of ‘data’ \n",
    "3. Print the feature_names\n",
    "4. Print the target_names\n",
    "5. print type and shape of 'target'\n",
    "6. Print first 10 values of the target, then print the unique values using np.unique(iris_dataset['target'])\n"
   ]
  },
  {
   "cell_type": "code",
   "execution_count": 15,
   "metadata": {},
   "outputs": [
    {
     "data": {
      "text/plain": [
       "(150, 4)"
      ]
     },
     "execution_count": 15,
     "metadata": {},
     "output_type": "execute_result"
    }
   ],
   "source": [
    "\n",
    "iris_dataset.data.shape\n"
   ]
  },
  {
   "cell_type": "code",
   "execution_count": 16,
   "metadata": {},
   "outputs": [
    {
     "data": {
      "text/plain": [
       "numpy.ndarray"
      ]
     },
     "execution_count": 16,
     "metadata": {},
     "output_type": "execute_result"
    }
   ],
   "source": [
    "type(iris_dataset.data)"
   ]
  },
  {
   "cell_type": "code",
   "execution_count": 17,
   "metadata": {},
   "outputs": [
    {
     "name": "stdout",
     "output_type": "stream",
     "text": [
      "['sepal length (cm)', 'sepal width (cm)', 'petal length (cm)', 'petal width (cm)']\n"
     ]
    }
   ],
   "source": [
    "print(iris_dataset.feature_names)"
   ]
  },
  {
   "cell_type": "code",
   "execution_count": 18,
   "metadata": {},
   "outputs": [
    {
     "name": "stdout",
     "output_type": "stream",
     "text": [
      "['setosa' 'versicolor' 'virginica']\n"
     ]
    }
   ],
   "source": [
    "print(iris_dataset.target_names)"
   ]
  },
  {
   "cell_type": "code",
   "execution_count": 19,
   "metadata": {},
   "outputs": [
    {
     "data": {
      "text/plain": [
       "(150,)"
      ]
     },
     "execution_count": 19,
     "metadata": {},
     "output_type": "execute_result"
    }
   ],
   "source": [
    "iris_dataset.target.shape\n"
   ]
  },
  {
   "cell_type": "code",
   "execution_count": 20,
   "metadata": {},
   "outputs": [
    {
     "data": {
      "text/plain": [
       "numpy.ndarray"
      ]
     },
     "execution_count": 20,
     "metadata": {},
     "output_type": "execute_result"
    }
   ],
   "source": [
    "type(iris_dataset.target)"
   ]
  },
  {
   "cell_type": "code",
   "execution_count": 21,
   "metadata": {},
   "outputs": [
    {
     "name": "stdout",
     "output_type": "stream",
     "text": [
      "[0 0 0 0 0 0 0 0 0 0]\n"
     ]
    }
   ],
   "source": [
    "print(iris_dataset.target[0:10])"
   ]
  },
  {
   "cell_type": "code",
   "execution_count": 22,
   "metadata": {},
   "outputs": [
    {
     "data": {
      "text/plain": [
       "array([0, 1, 2])"
      ]
     },
     "execution_count": 22,
     "metadata": {},
     "output_type": "execute_result"
    }
   ],
   "source": [
    "np.unique(iris_dataset.target)"
   ]
  },
  {
   "cell_type": "markdown",
   "metadata": {},
   "source": [
    "#### B) Classify the Iris species with KNN approach using the first two feature only (X_train[:, : 2], X_test[:, : 2]), and check the accuracy as K changes. Let K takes the values [1, 5, 10, 15]. No need to scale features.\n",
    "In the code, use random_state=100 in train_test_split as below.\n",
    "\n",
    "Plot the accuracy versus K and comment on your result"
   ]
  },
  {
   "cell_type": "code",
   "execution_count": 23,
   "metadata": {},
   "outputs": [],
   "source": [
    "%matplotlib inline\n",
    "import matplotlib.pyplot as plt\n",
    "import pandas as pd\n",
    "from sklearn.neighbors import KNeighborsClassifier \n",
    "import numpy as np\n",
    "from sklearn.model_selection import train_test_split\n",
    "from sklearn import preprocessing\n",
    "\n",
    "\n",
    "test_accuracy=[] # you can use the .append to test_accuracy to store the result\n",
    "X_train, X_test, Y_train, Y_test = train_test_split(iris_dataset.data[:,:2],iris_dataset['target'],random_state=100)\n",
    "\n",
    "#complete your code here\n",
    "neighbours=[1,5,10,15]\n",
    "for i in neighbours:\n",
    "    \n",
    "    knn=KNeighborsClassifier(i)\n",
    "    knn.fit(X_train,Y_train)\n",
    "    accuracy=knn.score(X_test,Y_test)\n",
    "    test_accuracy.append(accuracy)\n",
    "\n"
   ]
  },
  {
   "cell_type": "code",
   "execution_count": 31,
   "metadata": {},
   "outputs": [
    {
     "name": "stdout",
     "output_type": "stream",
     "text": [
      "[0.7368421052631579, 0.8421052631578947, 0.8421052631578947, 0.7631578947368421]\n"
     ]
    },
    {
     "data": {
      "text/plain": [
       "[<matplotlib.lines.Line2D at 0x25f167a5ba8>]"
      ]
     },
     "execution_count": 31,
     "metadata": {},
     "output_type": "execute_result"
    },
    {
     "data": {
      "image/png": "[encoded data removed]",
      "text/plain": [
       "<Figure size 432x288 with 1 Axes>"
      ]
     },
     "metadata": {},
     "output_type": "display_data"
    }
   ],
   "source": [
    "print(test_accuracy)\n",
    "plt.plot(neighbours,test_accuracy)\n"
   ]
  },
  {
   "cell_type": "markdown",
   "metadata": {},
   "source": [
    " in the graph above , we see that when the K value is low it's a clear sign of overfitting while when K goes above 10 , as the plateau begins the downward motion in the graph, we see underfitting as the model isn't specific enough.\n",
    " The optimum values of K seem to be between 4 and 10 for the above scenario.\n"
   ]
  },
  {
   "cell_type": "markdown",
   "metadata": {},
   "source": [
    "#### C) Use the Iris example, and find the accuracy of the KNN approach with K=5 when different number of features is used without scaling. \n",
    "\n",
    "- Hint: Here we just take features by the order they appear in the dataset. No feature selection. To use N_features only from training data use: X_train[:, : N_features ]\n",
    "\n",
    "print then plot the accuracy verus the number of feature (i.e. when using one, two, three, and the four features)\n"
   ]
  },
  {
   "cell_type": "code",
   "execution_count": 28,
   "metadata": {},
   "outputs": [
    {
     "name": "stdout",
     "output_type": "stream",
     "text": [
      "[0.7894736842105263, 0.8421052631578947, 0.9210526315789473, 0.9736842105263158]\n"
     ]
    },
    {
     "data": {
      "text/plain": [
       "[<matplotlib.lines.Line2D at 0x25f16408898>]"
      ]
     },
     "execution_count": 28,
     "metadata": {},
     "output_type": "execute_result"
    },
    {
     "data": {
      "image/png": "[encoded data removed]",
      "text/plain": [
       "<Figure size 432x288 with 1 Axes>"
      ]
     },
     "metadata": {},
     "output_type": "display_data"
    }
   ],
   "source": [
    "# You can write you code here\n",
    "test2_accuracy=[] \n",
    "\n",
    "\n",
    "#complete your code here\n",
    "features=[1,2,3,4]\n",
    "for i in features:\n",
    "    X_train, X_test, Y_train, Y_test = train_test_split(iris_dataset.data[:,:i],iris_dataset['target'],random_state=100)\n",
    "    knn=KNeighborsClassifier(5)\n",
    "    knn.fit(X_train,Y_train)\n",
    "    accuracy=knn.score(X_test,Y_test)\n",
    "    test2_accuracy.append(accuracy)\n",
    "print(test2_accuracy)\n",
    "plt.plot(features,test2_accuracy)"
   ]
  },
  {
   "cell_type": "markdown",
   "metadata": {},
   "source": [
    "#### D) Repeat C when feature scaling with MinMaxScaler is used. Comment on your result (comparing D and C)"
   ]
  },
  {
   "cell_type": "code",
   "execution_count": 1,
   "metadata": {
    "collapsed": true
   },
   "outputs": [],
   "source": [
    "# You can write you code here"
   ]
  },
  {
   "cell_type": "code",
   "execution_count": 29,
   "metadata": {},
   "outputs": [
    {
     "name": "stdout",
     "output_type": "stream",
     "text": [
      "0.7894736842105263\n",
      "0.8421052631578947\n",
      "0.9736842105263158\n",
      "0.9736842105263158\n",
      "[0.7894736842105263, 0.8421052631578947, 0.9736842105263158, 0.9736842105263158]\n"
     ]
    },
    {
     "data": {
      "text/plain": [
       "[<matplotlib.lines.Line2D at 0x25f16473320>]"
      ]
     },
     "execution_count": 29,
     "metadata": {},
     "output_type": "execute_result"
    },
    {
     "data": {
      "image/png": "[encoded data removed]",
      "text/plain": [
       "<Figure size 432x288 with 1 Axes>"
      ]
     },
     "metadata": {},
     "output_type": "display_data"
    }
   ],
   "source": [
    "test3_accuracy=[] \n",
    "\n",
    "\n",
    "#complete your code here\n",
    "features=[1,2,3,4]\n",
    "for i in features:\n",
    "    X_train, X_test, Y_train, Y_test = train_test_split(iris_dataset.data[:,:i],iris_dataset['target'],random_state=100)\n",
    "    scaler=preprocessing.MinMaxScaler().fit(X_train)\n",
    "    X_trainscaled=scaler.transform(X_train)\n",
    "    X_testscaled=scaler.transform(X_test)\n",
    "    knn=KNeighborsClassifier(5)\n",
    "    knn.fit(X_trainscaled,Y_train)\n",
    "    accuracy=knn.score(X_testscaled,Y_test)\n",
    "    print(accuracy)\n",
    "    test3_accuracy.append(accuracy)\n",
    "print(test3_accuracy)\n",
    "plt.plot(features,test3_accuracy)\n"
   ]
  },
  {
   "cell_type": "markdown",
   "metadata": {},
   "source": [
    "In case C) we are using feature selection without scaling and we see as the number of features increases the accuracy increases as we can define the model better. \n",
    "in case D) we perform feature Selection as well as scaling , there's an improvement when the number of features is 3 as the accuracy reaches 0.97 here itself and plateaus from there on out."
   ]
  },
  {
   "cell_type": "code",
   "execution_count": null,
   "metadata": {},
   "outputs": [],
   "source": []
  }
 ],
 "metadata": {
  "kernelspec": {
   "display_name": "Python 3",
   "language": "python",
   "name": "python3"
  },
  "language_info": {
   "codemirror_mode": {
    "name": "ipython",
    "version": 3
   },
   "file_extension": ".py",
   "mimetype": "text/x-python",
   "name": "python",
   "nbconvert_exporter": "python",
   "pygments_lexer": "ipython3",
   "version": "3.6.5"
  }
 },
 "nbformat": 4,
 "nbformat_minor": 2
}
