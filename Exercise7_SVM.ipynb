{
 "cells": [
  {
   "cell_type": "markdown",
   "metadata": {},
   "source": [
    "## SVM \n",
    "\n",
    "In this part, we will apply SVM for classification of breast cancer using the Wisconsin's data set. Read the description of the dataset, then answer the following questions. Whenever needed to split the data, use random_state=0 in train_test_split\n",
    "\n",
    "#### 1) Find the accuracy of SVM classifier with parameter C=0.1, and  radial basis function kernel (rbf) of parameter Gamma =0.2. (5 pt)\n"
   ]
  },
  {
   "cell_type": "code",
   "execution_count": 2,
   "metadata": {},
   "outputs": [
    {
     "name": "stdout",
     "output_type": "stream",
     "text": [
      "The accuracy for SVM with C = 0.1 and Gamma = 0.2:  0.6293706293706294\n"
     ]
    }
   ],
   "source": [
    "from sklearn.svm import SVC\n",
    "from sklearn.datasets import load_breast_cancer\n",
    "#from sklearn.datasets import load_iris\n",
    "from sklearn.model_selection import train_test_split\n",
    "from sklearn.preprocessing import MinMaxScaler \n",
    "from sklearn.model_selection import cross_val_score\n",
    "import numpy as np\n",
    "\n",
    "CancerDataset=load_breast_cancer()\n",
    "X_train, X_test, Y_train, Y_test = train_test_split(CancerDataset.data, CancerDataset.target, random_state = 0)\n",
    "svm1=SVC(kernel= 'rbf', gamma=0.2, C=0.1).fit(X_train,Y_train)\n",
    "print(\"The accuracy for SVM with C = 0.1 and Gamma = 0.2: \", svm1.score(X_test, Y_test))\n"
   ]
  },
  {
   "cell_type": "code",
   "execution_count": null,
   "metadata": {},
   "outputs": [],
   "source": []
  },
  {
   "cell_type": "markdown",
   "metadata": {},
   "source": [
    "#### 2) Repeat part (1) but scale the features with MinMaxScaler. Compare results of (1) and (2) and comment on the results. (5 pt)\n"
   ]
  },
  {
   "cell_type": "code",
   "execution_count": 3,
   "metadata": {},
   "outputs": [
    {
     "name": "stdout",
     "output_type": "stream",
     "text": [
      "The accuracy for SVM with C = 0.1 and Gamma = 0.2: 0.951048951048951\n"
     ]
    }
   ],
   "source": [
    "scale1=MinMaxScaler().fit(X_train)\n",
    "X_trainscaled=scale1.transform(X_train)\n",
    "X_testscaled=scale1.transform(X_test)\n",
    "svm2=SVC(kernel='rbf',gamma=0.2,C=0.1).fit(X_trainscaled,Y_train)\n",
    "print(\"The accuracy for SVM with C = 0.1 and Gamma = 0.2:\",svm2.score(X_testscaled,Y_test))"
   ]
  },
  {
   "cell_type": "markdown",
   "metadata": {},
   "source": [
    "Comment\n",
    "\n",
    "\n",
    "-  Clearly scaling  for SVM helps. If a feature has a huge range compared to others, it will dominate all the others in the kernel function. Therefore better accuracy. This is why we used minmax to maintain variability\n",
    "\n"
   ]
  },
  {
   "cell_type": "markdown",
   "metadata": {},
   "source": [
    "#### 3) Using scaled features, find best SVM classifier. Try values of the regularization C=[0.1, 1, 5] and RBF parameter Gamma = [ 0.1, 1, 5]. Use 5-fold cross validation to find the best parameters (using all possible combinations of these values for C and gamma). (10 pt)"
   ]
  },
  {
   "cell_type": "code",
   "execution_count": 17,
   "metadata": {},
   "outputs": [
    {
     "name": "stdout",
     "output_type": "stream",
     "text": [
      "The selected model has C= 1 , Gamma =  1 and validation score is  0.9812859097127223\n",
      "The score using the selected model is  0.972027972027972\n"
     ]
    }
   ],
   "source": [
    "C=[0.1, 1, 5]\n",
    "Gamma = [ 0.1, 1, 5]\n",
    "scorebest = 0\n",
    "cbest = 0\n",
    "gammabest = 0\n",
    "k = 5\n",
    "for c in C:\n",
    "    for g in Gamma:\n",
    "        svm3 = SVC(kernel = 'rbf', gamma = g, C = c)\n",
    "        score1 = cross_val_score(svm3, X_trainscaled, Y_train, cv =k)\n",
    "        score1= np.mean(score1)\n",
    "        if score1 > scorebest:\n",
    "            scorebest = score1\n",
    "            cbest = c\n",
    "            gammabest = g\n",
    "svm4 = SVC(kernel = 'rbf', gamma = gammabest, C = cbest).fit(X_trainscaled, Y_train)\n",
    "print(\"The selected model has C=\", cbest, \", Gamma = \", gammabest, \"and validation score is \", scorebest)\n",
    "print(\"The score using the selected model is \", svm4.score(X_testscaled, Y_test))\n"
   ]
  },
  {
   "cell_type": "code",
   "execution_count": null,
   "metadata": {},
   "outputs": [],
   "source": []
  }
 ],
 "metadata": {
  "kernelspec": {
   "display_name": "Python 3",
   "language": "python",
   "name": "python3"
  },
  "language_info": {
   "codemirror_mode": {
    "name": "ipython",
    "version": 3
   },
   "file_extension": ".py",
   "mimetype": "text/x-python",
   "name": "python",
   "nbconvert_exporter": "python",
   "pygments_lexer": "ipython3",
   "version": "3.6.5"
  }
 },
 "nbformat": 4,
 "nbformat_minor": 2
}
