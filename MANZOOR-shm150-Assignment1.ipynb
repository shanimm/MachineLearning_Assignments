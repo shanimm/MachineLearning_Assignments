{
 "cells": [
  {
   "cell_type": "markdown",
   "metadata": {},
   "source": [
    "<div style=\"text-align: center;\">\n",
    "<h2>INFSCI 2595 Machine Learning - Spring 2019 </h2>\n",
    "<h1 style=\"font-size: 250%;\">Assignment #1</h1>\n",
    "<h3>Due: Feb 17, 2019</h3>\n",
    "<h3>Total points: 100 </h3>\n",
    "</div>"
   ]
  },
  {
   "cell_type": "code",
   "execution_count": 4,
   "metadata": {
    "collapsed": true
   },
   "outputs": [],
   "source": [
    "# Type in your information in the double quotes\n",
    "firstName = \"Shanim\"\n",
    "lastName = \"Manzoor\"\n",
    "pittID = \"shm150\""
   ]
  },
  {
   "cell_type": "code",
   "execution_count": 26,
   "metadata": {},
   "outputs": [],
   "source": [
    "#Libraries \n",
    "%matplotlib inline\n",
    "import numpy as np \n",
    "import pandas as pd\n",
    "import seaborn as sns\n",
    "import statsmodels.api as sm\n",
    "import matplotlib.pyplot as plt\n",
    "from IPython.display import Image\n",
    "import statsmodels.formula.api as smf\n",
    "from sklearn.datasets import load_boston\n",
    "from sklearn.linear_model import LinearRegression\n",
    "from sklearn.model_selection import train_test_split\n",
    "from sklearn import datasets"
   ]
  },
  {
   "cell_type": "markdown",
   "metadata": {},
   "source": [
    "<h3>  Problem #1. K-nearest neighbors  [13 points] </h3> \n",
    "\n",
    "In this problem, do not use built-in  functions for classification (i.e. do not use sklearn.neighbors). You will be required to do the calculations and make the predictions based on your understanding of how the technique works. You can use pen and paper to do the calculations (and upload image of your solutions) or write the code of detailed calculations and prediction.\n",
    "\n",
    "The table below provides a training data set containing six observations, three predictors, and one qualitative response variable.\n",
    "Suppose we wish to use this data set to make a prediction for Y when X1 = -1, X2 = 1 X3 = 2 using K-nearest neighbors."
   ]
  },
  {
   "cell_type": "markdown",
   "metadata": {},
   "source": [
    "|Obs.|X1|X2|X3|Y\n",
    "|--|-------------------------------|\n",
    "|1 |0|3|0|Green|\n",
    "|2 |2|0|0|Green|\n",
    "|3|0|1|3|Green|\n",
    "|4|0|1|2|Red|\n",
    "|5|-1|0|1|Red|\n",
    "|6|1|1|1|Green|"
   ]
  },
  {
   "cell_type": "markdown",
   "metadata": {},
   "source": [
    "<b>Problem #1-1.</b> Compute the Euclidean distance between each observation and the test point. Your output should be a (6*1) column vector where each row shows the distance between the observations and the test point [5 pts]. \n"
   ]
  },
  {
   "cell_type": "markdown",
   "metadata": {},
   "source": [
    "<b>Problem #1-2.</b> What is our prediction with K = 1? [2pts]"
   ]
  },
  {
   "cell_type": "markdown",
   "metadata": {},
   "source": [
    "<b>Problem #1-3.</b> What is our prediction with K = 3? K = 5? [3pts]"
   ]
  },
  {
   "cell_type": "markdown",
   "metadata": {},
   "source": [
    "<b>Problem #1-4.</b>  For KNN classification, discuss the impact of choosing the parameter K on the model performance. Highlight the different trade-offs [3pts]."
   ]
  },
  {
   "cell_type": "markdown",
   "metadata": {},
   "source": [
    "# if the value of k is too low , say 1,  we see a lot of bias and overfitting to the training set\n",
    "# if the value of k is too high , we can see  see there will be a generalization and the model will be a terrible predictor as it is a classic case of underfitting\n",
    "# the value of k is a design decision where we have to consider bias-variance tradeoff"
   ]
  },
  {
   "cell_type": "markdown",
   "metadata": {},
   "source": [
    "![alt text](files/1.jpg )"
   ]
  },
  {
   "cell_type": "markdown",
   "metadata": {},
   "source": [
    "![alt text](files/2.jpg )"
   ]
  },
  {
   "cell_type": "markdown",
   "metadata": {},
   "source": [
    "![alt text](files/3.jpg )"
   ]
  },
  {
   "cell_type": "markdown",
   "metadata": {},
   "source": [
    "<h3>  Problem #2. Linear regression calculations of coefficients and $R^2$ [17 points] </h3>  \n",
    "-  You should not use built-in functions for linear regression in this question's parts (2-1) and (2-2). Do the calculations manually or explicitly by code. <br>\n",
    "- Feel free to select any type of submission you are comfortable with (Since it may require some mathematical formula and symbols; MS Word, or scanned version of your writing will be fine) "
   ]
  },
  {
   "cell_type": "markdown",
   "metadata": {},
   "source": [
    "<b>Problem #2-1.</b> Find the least squared fit of a linear regression model using the following traning data. Coefficients are obtained using the formulas [7pts]: \n",
    "\\begin{array} \\\\\n",
    "    \\hat{\\beta}_0 = \\bar{y} - \\hat{\\beta}_1\\bar{x}, \\\\ \\\\\n",
    "    \\hat{\\beta}_1 = \\frac{\\sum_{i=1}^n y_i x_i - \\bar{y}\\sum_{i=1}^n x_i}{\\sum_{i=1}^n x^2 - \\bar{x}\\sum_{i=1}^n x_i} \\\\ \\\\\n",
    "    \\text{where }\\bar{x} = \\frac{\\sum_{i=1}^y x_i}{n} \\text{ and } \\bar{y} = \\frac{\\sum_{i=1}^y y_i}{n} \\\\\n",
    "\\end{array}"
   ]
  },
  {
   "cell_type": "markdown",
   "metadata": {},
   "source": [
    "|Smoke index(x)|Lung cancer mortality index(y)|\n",
    "|:--:|:-------------------------------:|\n",
    "|127|115|\n",
    "|121|128|\n",
    "|94|128|\n",
    "|126|156|\n",
    "|102|101|\n",
    "|111|128|\n",
    "|95|115|\n",
    "|89|105|\n",
    "|101|87|"
   ]
  },
  {
   "cell_type": "markdown",
   "metadata": {},
   "source": [
    "<b>Problem #2-2.</b> Given the test data below, compute the TSS, RSS and the R-squared metric of the fitted model [6pts]"
   ]
  },
  {
   "cell_type": "markdown",
   "metadata": {},
   "source": [
    "|Xi|Yi|\n",
    "|:--:|:-------------------------------:|\n",
    "|90|103|\n",
    "|106|131|\n",
    "|105|85|\n",
    "|115|99|\n",
    "|113|144|"
   ]
  },
  {
   "cell_type": "markdown",
   "metadata": {},
   "source": [
    "<b>Problem #2-3.</b> Check your calculations by finding the coefficients and the $R^2$ score using scikit-learn library (from sklearn.linear_model import LinearRegression) [4pts]"
   ]
  },
  {
   "cell_type": "code",
   "execution_count": 147,
   "metadata": {},
   "outputs": [
    {
     "name": "stdout",
     "output_type": "stream",
     "text": [
      "0.040627525222455496\n"
     ]
    }
   ],
   "source": [
    "from sklearn.linear_model import LinearRegression\n",
    "#df1=pd.DataFrame({\n",
    " #   \"x1\":[127,121,94,126,102,111,95,89,101],\n",
    "  #  \"y1\":[115,128,128,156,101,128,115,105,87]\n",
    "#})\n",
    "\n",
    "#df2=pd.DataFrame({\n",
    " #   \"x2\":[90,106,105,115,113],\n",
    "  #  \"y2\":[103,131,85,99,144]})\n",
    "#X1=df1.x1\n",
    "#Y1=df1.y1\n",
    "#X2=df2.x2\n",
    "#Y2=df2.y2\n",
    "#df1.head()\n",
    "\n",
    "# d1={'x1':[127,121,94,126,102,111,95,89,101],\n",
    "#     'y1':[115,128,128,156,101,128,115,105,87]\n",
    "#    }\n",
    "               \n",
    "# d2={'x2':[90,106,105,115,113],\n",
    "#     'y2':[103,131,85,99,144]\n",
    "#     }\n",
    "\n",
    "d1 = np.array([[127,121,94,126,102,111,95,89,101],[115,128,128,156,101,128,115,105,87]])\n",
    "d2 = np.array([[90,106,105,115,113],[103,131,85,99,144]])\n",
    "df1 = pd.DataFrame(d1.T,columns=['x1','y1'])\n",
    "df2 = pd.DataFrame(d2.T,columns=['x2','y2']) \n",
    "\n",
    "X1=df1['x1']\n",
    "Y1=df1['y1']\n",
    "X2=df2['x2']\n",
    "Y2=df2['y2']\n",
    "# X_train, X_test, Y_train, Y_test= train_test_split(df1.x1.,df1.y1, random_state=0)\n",
    "lm1=LinearRegression().fit(df1.drop(columns=['y1']),df1.y1)\n",
    "# score\n",
    "print(lm1.score(df2.drop(columns=['y2']),Y2))\n",
    "\n",
    "\n"
   ]
  },
  {
   "cell_type": "markdown",
   "metadata": {},
   "source": [
    "<h3>  Problem #3. Linear Regression Optimization with Stochastic Gradient Descent  [20 points] </h3> \n"
   ]
  },
  {
   "cell_type": "markdown",
   "metadata": {
    "collapsed": true
   },
   "source": [
    "In this question, you will create a synthetic dataset, then use gradient descent to find the coefficients' estimates. We will see how the RSS changes with iterations of the gradient descent. \n",
    "\n",
    "\n",
    "<b>Problem #3-1.</b> Create a label $y$, which is related to a feature $X$, such that $y=10 + 5 X + \\epsilon$. $\\epsilon$ is a Gaussian noise (normal distribution) with mean 0 and unit variance. X is generated from a uniform distribution as given in the code below. The number of observations to be generated is 100 [4pts]."
   ]
  },
  {
   "cell_type": "code",
   "execution_count": 102,
   "metadata": {},
   "outputs": [
    {
     "data": {
      "text/plain": [
       "(array([10.,  6., 13., 10., 15., 11.,  8.,  7.,  9., 11.]),\n",
       " array([ 14.53515967,  23.94492157,  33.35468347,  42.76444538,\n",
       "         52.17420728,  61.58396918,  70.99373108,  80.40349298,\n",
       "         89.81325488,  99.22301678, 108.63277868]),\n",
       " <a list of 10 Patch objects>)"
      ]
     },
     "execution_count": 102,
     "metadata": {},
     "output_type": "execute_result"
    },
    {
     "data": {
      "image/png": "[encoded data removed]",
      "text/plain": [
       "<Figure size 432x288 with 1 Axes>"
      ]
     },
     "metadata": {},
     "output_type": "display_data"
    }
   ],
   "source": [
    "\n",
    "NumberObservations=100\n",
    "minVal=1\n",
    "maxVal=20\n",
    "X = np.random.uniform(minVal,maxVal,(NumberObservations,1))\n",
    "#Add you code below to define error and Y based on the information above\n",
    "y=10+5*X+np.random.normal(0,1)\n",
    "y.shape\n",
    "plt.hist(y) \n",
    "\n",
    "\n"
   ]
  },
  {
   "cell_type": "markdown",
   "metadata": {},
   "source": [
    "## here we have used normal function for noise with unit variance and zero mean. y has been set as the sum of scaled X ,10 and noise"
   ]
  },
  {
   "cell_type": "markdown",
   "metadata": {},
   "source": [
    "<b>Problem #3-2.</b> Now assume we don't know the actual relationship between X and y. Use the generated noisy data and find the coefficients of a linear regression model obtained by gradient descent. Do not use any built-in functions for gradient descent. Write the code based on your understanding of the algorithm. The cost function is the RSS, set the number of iterations to 10000 and the learning rate to 0.00001.\n",
    "\n",
    "- Print the estimated coefficients of the model obtained using gradient descent [7 pts]\n",
    "- Record the RSS in each iteration of the gradient descent and plot the last 6000 values of the RSS. Comment on figure. [3 pts]\n",
    "- Comment on how close the obtained coefficients are from the actual ones [3pts]"
   ]
  },
  {
   "cell_type": "code",
   "execution_count": 177,
   "metadata": {},
   "outputs": [],
   "source": [
    "def  cal_cost(t,X,y):\n",
    "\n",
    "    \n",
    "    m = len(y)\n",
    "    \n",
    "    predictions = X.dot(t)\n",
    "    cost = np.sum(np.square(predictions-y))\n",
    "    return cost\n",
    "#here we are calculating cost for each iteration for the gradient_descent fucnction defined below\n"
   ]
  },
  {
   "cell_type": "code",
   "execution_count": 178,
   "metadata": {},
   "outputs": [],
   "source": [
    "def gradient_descent(X,y,theta,learning_rate,it1):\n",
    "\n",
    "    m = len(y)\n",
    "    cost_history = np.zeros(it1)\n",
    "    theta_history = np.zeros((it1,2))\n",
    "    for i in range(it1):\n",
    "        \n",
    "        prediction = np.dot(X,theta)\n",
    "        \n",
    "        theta = theta - learning_rate*( X.T.dot((prediction - y)))\n",
    "        theta_history[i,:] =theta.T\n",
    "        cost_history[i]  = cal_cost(theta,X,y)\n",
    "        \n",
    "    return theta, cost_history, theta_history"
   ]
  },
  {
   "cell_type": "code",
   "execution_count": 179,
   "metadata": {},
   "outputs": [
    {
     "name": "stdout",
     "output_type": "stream",
     "text": [
      "\n",
      "Bias(b0):\n",
      "7.802000454646847\n",
      "b1\n",
      "5.09158704341284\n"
     ]
    },
    {
     "data": {
      "text/plain": [
       "[<matplotlib.lines.Line2D at 0x191fccc59b0>]"
      ]
     },
     "execution_count": 179,
     "metadata": {},
     "output_type": "execute_result"
    },
    {
     "data": {
      "image/png": "[encoded data removed]",
      "text/plain": [
       "<Figure size 432x288 with 1 Axes>"
      ]
     },
     "metadata": {},
     "output_type": "display_data"
    }
   ],
   "source": [
    "learning =0.00001\n",
    "iterations = 10000\n",
    "\n",
    "theta = np.random.randn(2,1)\n",
    "\n",
    "X1 = np.c_[np.ones((len(X),1)),X]\n",
    "theta,cost_history,theta_history = gradient_descent(X1,y,theta,learning,iterations)\n",
    "\n",
    "\n",
    "print('')\n",
    "print('Bias(b0):')\n",
    "print(theta[0][0])\n",
    "print('b1')\n",
    "print(theta[1][0])\n",
    "\n",
    "\n",
    "plt.plot(cost_history[4000:-1])"
   ]
  },
  {
   "cell_type": "markdown",
   "metadata": {},
   "source": [
    "### Cost is decreasing as we reach the end of our iteration (RSS)\n",
    "### the values are close to the correct parameters here"
   ]
  },
  {
   "cell_type": "code",
   "execution_count": null,
   "metadata": {},
   "outputs": [],
   "source": [
    "<b>Problem #3-1.</b> Repeat (3-1) and (3-2) but increase the standard deviation of the error to 100. Comment on output coefficient estimates. (3pts)"
   ]
  },
  {
   "cell_type": "code",
   "execution_count": 180,
   "metadata": {},
   "outputs": [
    {
     "data": {
      "text/plain": [
       "(array([10.,  6., 13., 10., 15., 11.,  8.,  7.,  9., 11.]),\n",
       " array([104.77549677, 114.18525867, 123.59502057, 133.00478247,\n",
       "        142.41454437, 151.82430628, 161.23406818, 170.64383008,\n",
       "        180.05359198, 189.46335388, 198.87311578]),\n",
       " <a list of 10 Patch objects>)"
      ]
     },
     "execution_count": 180,
     "metadata": {},
     "output_type": "execute_result"
    },
    {
     "data": {
      "image/png": "[encoded data removed]",
      "text/plain": [
       "<Figure size 432x288 with 1 Axes>"
      ]
     },
     "metadata": {},
     "output_type": "display_data"
    }
   ],
   "source": [
    "y2=10+5*X+np.random.normal(0,100)\n",
    "y2.shape\n",
    "plt.hist(y2)\n",
    "#here the standard deviation is 100 instead"
   ]
  },
  {
   "cell_type": "code",
   "execution_count": 182,
   "metadata": {},
   "outputs": [
    {
     "name": "stdout",
     "output_type": "stream",
     "text": [
      "\n",
      "Bias(b0):\n",
      "86.3758776154172\n",
      "b1\n",
      "5.982809319576179\n"
     ]
    },
    {
     "data": {
      "text/plain": [
       "[<matplotlib.lines.Line2D at 0x191fcdf2a20>]"
      ]
     },
     "execution_count": 182,
     "metadata": {},
     "output_type": "execute_result"
    },
    {
     "data": {
      "image/png": "[encoded data removed]",
      "text/plain": [
       "<Figure size 432x288 with 1 Axes>"
      ]
     },
     "metadata": {},
     "output_type": "display_data"
    }
   ],
   "source": [
    "learning =0.00001\n",
    "iterations = 10000\n",
    "\n",
    "theta = np.random.randn(2,1)\n",
    "\n",
    "X1 = np.c_[np.ones((len(X),1)),X]\n",
    "theta,cost_history,theta_history = gradient_descent(X1,y2,theta,learning,iterations)\n",
    "\n",
    "\n",
    "\n",
    "\n",
    "print('')\n",
    "print('Bias(b0):')\n",
    "print(theta[0][0])\n",
    "print('b1')\n",
    "print(theta[1][0])\n",
    "\n",
    "\n",
    "\n",
    "\n",
    "plt.plot(cost_history[4000:10000])"
   ]
  },
  {
   "cell_type": "markdown",
   "metadata": {},
   "source": [
    "## Here we see that second situation is very random\n",
    "## In the second scenario, the variance/Std. deviation of the error is comparitively much higher\n",
    "## cost function in second case, the combination of std. deviation and the low learning rate causes it to not reach ideal values even after 10,000 iterations for the bias term atleast.\n"
   ]
  },
  {
   "cell_type": "code",
   "execution_count": 101,
   "metadata": {},
   "outputs": [],
   "source": [
    "# learning=0.00001\n",
    "# n=10000\n",
    "# m1=0\n",
    "# b1=0\n",
    "# #mcurrent=m1,bcurrent=b1,ycurr=y1\n",
    "# for i in range(10000):\n",
    "#     y1 = (m1 * X) + b1\n",
    "#     cost = sum([test**2 for test in (y-y1)]) / n\n",
    "#     m2 = -(2/n) * sum(X*(y - y1))\n",
    "#     b2 = -(2/n) * sum(y - y1)\n",
    "#     m1 = m1 - (learning* m2)\n",
    "#     b1 = b1 - (learning * b2)\n",
    "\n",
    "    \n",
    "# print(m1[0])\n",
    "# print(b1[0])\n",
    "# print (sum(cost))"
   ]
  },
  {
   "cell_type": "code",
   "execution_count": null,
   "metadata": {},
   "outputs": [],
   "source": [
    "\n",
    "    \n",
    "    "
   ]
  },
  {
   "cell_type": "code",
   "execution_count": 51,
   "metadata": {},
   "outputs": [],
   "source": []
  },
  {
   "cell_type": "code",
   "execution_count": null,
   "metadata": {},
   "outputs": [],
   "source": []
  },
  {
   "cell_type": "markdown",
   "metadata": {},
   "source": []
  },
  {
   "cell_type": "code",
   "execution_count": 183,
   "metadata": {},
   "outputs": [],
   "source": [
    "\n",
    "\n"
   ]
  },
  {
   "cell_type": "code",
   "execution_count": 99,
   "metadata": {},
   "outputs": [],
   "source": []
  },
  {
   "cell_type": "code",
   "execution_count": null,
   "metadata": {},
   "outputs": [],
   "source": []
  },
  {
   "cell_type": "code",
   "execution_count": 100,
   "metadata": {},
   "outputs": [],
   "source": []
  },
  {
   "cell_type": "markdown",
   "metadata": {},
   "source": [
    "<h3>  Problem #4. This question involves the use of multiple linear regression on the Boston dataset [30 points]</h3> <br>\n",
    "In this part, you should download and analyze **\"Boston House Prices\"** dataset. <br>\n",
    "- Whole dataset contains 14 attributes, (13 numeric/categorical predictive and 1 target value)  what is a abbreviation of the target value? \n",
    "- The target value is MEDV => Median value of owner-occupied homes in $1000's\n",
    "  \n",
    "Use a code below to download the  dataset: "
   ]
  },
  {
   "cell_type": "code",
   "execution_count": 29,
   "metadata": {},
   "outputs": [
    {
     "name": "stdout",
     "output_type": "stream",
     "text": [
      "dict_keys(['data', 'target', 'feature_names', 'DESCR'])\n"
     ]
    }
   ],
   "source": [
    "dataset = load_boston()\n",
    "print(dataset.keys())"
   ]
  },
  {
   "cell_type": "markdown",
   "metadata": {},
   "source": [
    "Print and read the description of the dataset then answer the following questions. \n",
    "\n"
   ]
  },
  {
   "cell_type": "code",
   "execution_count": 30,
   "metadata": {},
   "outputs": [
    {
     "name": "stdout",
     "output_type": "stream",
     "text": [
      "Boston House Prices dataset\n",
      "===========================\n",
      "\n",
      "Notes\n",
      "------\n",
      "Data Set Characteristics:  \n",
      "\n",
      "    :Number of Instances: 506 \n",
      "\n",
      "    :Number of Attributes: 13 numeric/categorical predictive\n",
      "    \n",
      "    :Median Value (attribute 14) is usually the target\n",
      "\n",
      "    :Attribute Information (in order):\n",
      "        - CRIM     per capita crime rate by town\n",
      "        - ZN       proportion of residential land zoned for lots over 25,000 sq.ft.\n",
      "        - INDUS    proportion of non-retail business acres per town\n",
      "        - CHAS     Charles River dummy variable (= 1 if tract bounds river; 0 otherwise)\n",
      "        - NOX      nitric oxides concentration (parts per 10 million)\n",
      "        - RM       average number of rooms per dwelling\n",
      "        - AGE      proportion of owner-occupied units built prior to 1940\n",
      "        - DIS      weighted distances to five Boston employment centres\n",
      "        - RAD      index of accessibility to radial highways\n",
      "        - TAX      full-value property-tax rate per $10,000\n",
      "        - PTRATIO  pupil-teacher ratio by town\n",
      "        - B        1000(Bk - 0.63)^2 where Bk is the proportion of blacks by town\n",
      "        - LSTAT    % lower status of the population\n",
      "        - MEDV     Median value of owner-occupied homes in $1000's\n",
      "\n",
      "    :Missing Attribute Values: None\n",
      "\n",
      "    :Creator: Harrison, D. and Rubinfeld, D.L.\n",
      "\n",
      "This is a copy of UCI ML housing dataset.\n",
      "http://archive.ics.uci.edu/ml/datasets/Housing\n",
      "\n",
      "\n",
      "This dataset was taken from the StatLib library which is maintained at Carnegie Mellon University.\n",
      "\n",
      "The Boston house-price data of Harrison, D. and Rubinfeld, D.L. 'Hedonic\n",
      "prices and the demand for clean air', J. Environ. Economics & Management,\n",
      "vol.5, 81-102, 1978.   Used in Belsley, Kuh & Welsch, 'Regression diagnostics\n",
      "...', Wiley, 1980.   N.B. Various transformations are used in the table on\n",
      "pages 244-261 of the latter.\n",
      "\n",
      "The Boston house-price data has been used in many machine learning papers that address regression\n",
      "problems.   \n",
      "     \n",
      "**References**\n",
      "\n",
      "   - Belsley, Kuh & Welsch, 'Regression diagnostics: Identifying Influential Data and Sources of Collinearity', Wiley, 1980. 244-261.\n",
      "   - Quinlan,R. (1993). Combining Instance-Based and Model-Based Learning. In Proceedings on the Tenth International Conference of Machine Learning, 236-243, University of Massachusetts, Amherst. Morgan Kaufmann.\n",
      "   - many more! (see http://archive.ics.uci.edu/ml/datasets/Housing)\n",
      "\n"
     ]
    }
   ],
   "source": [
    "print(dataset.DESCR)"
   ]
  },
  {
   "cell_type": "markdown",
   "metadata": {},
   "source": [
    "<b>Problem #4-1</b> Generate descriptive statistics using DataFrame. (hint: use \"DataFrame . describe\" method)<br>\n",
    "\n",
    "Follow two steps to answer questions.\n",
    "- Create a DataFrame usnig \"data\" from the dataset with columns using \"feature_names\".\n",
    "- Generate descriptive statistics \n",
    "\n",
    "<b> Answer the following questions:</b> [4pts]\n",
    "\n",
    "-  Which feature has the lowest range (minimum and maximum value)?\n",
    "\n",
    "-  Which feature has the higest mean?  \n",
    "\n",
    "-  Which feature has a highest variance? "
   ]
  },
  {
   "cell_type": "code",
   "execution_count": 150,
   "metadata": {},
   "outputs": [
    {
     "data": {
      "text/html": [
       "<div>\n",
       "<style scoped>\n",
       "    .dataframe tbody tr th:only-of-type {\n",
       "        vertical-align: middle;\n",
       "    }\n",
       "\n",
       "    .dataframe tbody tr th {\n",
       "        vertical-align: top;\n",
       "    }\n",
       "\n",
       "    .dataframe thead th {\n",
       "        text-align: right;\n",
       "    }\n",
       "</style>\n",
       "<table border=\"1\" class=\"dataframe\">\n",
       "  <thead>\n",
       "    <tr style=\"text-align: right;\">\n",
       "      <th></th>\n",
       "      <th>CRIM</th>\n",
       "      <th>ZN</th>\n",
       "      <th>INDUS</th>\n",
       "      <th>CHAS</th>\n",
       "      <th>NOX</th>\n",
       "      <th>RM</th>\n",
       "      <th>AGE</th>\n",
       "      <th>DIS</th>\n",
       "      <th>RAD</th>\n",
       "      <th>TAX</th>\n",
       "      <th>PTRATIO</th>\n",
       "      <th>B</th>\n",
       "      <th>LSTAT</th>\n",
       "    </tr>\n",
       "  </thead>\n",
       "  <tbody>\n",
       "    <tr>\n",
       "      <th>count</th>\n",
       "      <td>506.000000</td>\n",
       "      <td>506.000000</td>\n",
       "      <td>506.000000</td>\n",
       "      <td>506.000000</td>\n",
       "      <td>506.000000</td>\n",
       "      <td>506.000000</td>\n",
       "      <td>506.000000</td>\n",
       "      <td>506.000000</td>\n",
       "      <td>506.000000</td>\n",
       "      <td>506.000000</td>\n",
       "      <td>506.000000</td>\n",
       "      <td>506.000000</td>\n",
       "      <td>506.000000</td>\n",
       "    </tr>\n",
       "    <tr>\n",
       "      <th>mean</th>\n",
       "      <td>3.593761</td>\n",
       "      <td>11.363636</td>\n",
       "      <td>11.136779</td>\n",
       "      <td>0.069170</td>\n",
       "      <td>0.554695</td>\n",
       "      <td>6.284634</td>\n",
       "      <td>68.574901</td>\n",
       "      <td>3.795043</td>\n",
       "      <td>9.549407</td>\n",
       "      <td>408.237154</td>\n",
       "      <td>18.455534</td>\n",
       "      <td>356.674032</td>\n",
       "      <td>12.653063</td>\n",
       "    </tr>\n",
       "    <tr>\n",
       "      <th>std</th>\n",
       "      <td>8.596783</td>\n",
       "      <td>23.322453</td>\n",
       "      <td>6.860353</td>\n",
       "      <td>0.253994</td>\n",
       "      <td>0.115878</td>\n",
       "      <td>0.702617</td>\n",
       "      <td>28.148861</td>\n",
       "      <td>2.105710</td>\n",
       "      <td>8.707259</td>\n",
       "      <td>168.537116</td>\n",
       "      <td>2.164946</td>\n",
       "      <td>91.294864</td>\n",
       "      <td>7.141062</td>\n",
       "    </tr>\n",
       "    <tr>\n",
       "      <th>min</th>\n",
       "      <td>0.006320</td>\n",
       "      <td>0.000000</td>\n",
       "      <td>0.460000</td>\n",
       "      <td>0.000000</td>\n",
       "      <td>0.385000</td>\n",
       "      <td>3.561000</td>\n",
       "      <td>2.900000</td>\n",
       "      <td>1.129600</td>\n",
       "      <td>1.000000</td>\n",
       "      <td>187.000000</td>\n",
       "      <td>12.600000</td>\n",
       "      <td>0.320000</td>\n",
       "      <td>1.730000</td>\n",
       "    </tr>\n",
       "    <tr>\n",
       "      <th>25%</th>\n",
       "      <td>0.082045</td>\n",
       "      <td>0.000000</td>\n",
       "      <td>5.190000</td>\n",
       "      <td>0.000000</td>\n",
       "      <td>0.449000</td>\n",
       "      <td>5.885500</td>\n",
       "      <td>45.025000</td>\n",
       "      <td>2.100175</td>\n",
       "      <td>4.000000</td>\n",
       "      <td>279.000000</td>\n",
       "      <td>17.400000</td>\n",
       "      <td>375.377500</td>\n",
       "      <td>6.950000</td>\n",
       "    </tr>\n",
       "    <tr>\n",
       "      <th>50%</th>\n",
       "      <td>0.256510</td>\n",
       "      <td>0.000000</td>\n",
       "      <td>9.690000</td>\n",
       "      <td>0.000000</td>\n",
       "      <td>0.538000</td>\n",
       "      <td>6.208500</td>\n",
       "      <td>77.500000</td>\n",
       "      <td>3.207450</td>\n",
       "      <td>5.000000</td>\n",
       "      <td>330.000000</td>\n",
       "      <td>19.050000</td>\n",
       "      <td>391.440000</td>\n",
       "      <td>11.360000</td>\n",
       "    </tr>\n",
       "    <tr>\n",
       "      <th>75%</th>\n",
       "      <td>3.647423</td>\n",
       "      <td>12.500000</td>\n",
       "      <td>18.100000</td>\n",
       "      <td>0.000000</td>\n",
       "      <td>0.624000</td>\n",
       "      <td>6.623500</td>\n",
       "      <td>94.075000</td>\n",
       "      <td>5.188425</td>\n",
       "      <td>24.000000</td>\n",
       "      <td>666.000000</td>\n",
       "      <td>20.200000</td>\n",
       "      <td>396.225000</td>\n",
       "      <td>16.955000</td>\n",
       "    </tr>\n",
       "    <tr>\n",
       "      <th>max</th>\n",
       "      <td>88.976200</td>\n",
       "      <td>100.000000</td>\n",
       "      <td>27.740000</td>\n",
       "      <td>1.000000</td>\n",
       "      <td>0.871000</td>\n",
       "      <td>8.780000</td>\n",
       "      <td>100.000000</td>\n",
       "      <td>12.126500</td>\n",
       "      <td>24.000000</td>\n",
       "      <td>711.000000</td>\n",
       "      <td>22.000000</td>\n",
       "      <td>396.900000</td>\n",
       "      <td>37.970000</td>\n",
       "    </tr>\n",
       "  </tbody>\n",
       "</table>\n",
       "</div>"
      ],
      "text/plain": [
       "             CRIM          ZN       INDUS        CHAS         NOX          RM  \\\n",
       "count  506.000000  506.000000  506.000000  506.000000  506.000000  506.000000   \n",
       "mean     3.593761   11.363636   11.136779    0.069170    0.554695    6.284634   \n",
       "std      8.596783   23.322453    6.860353    0.253994    0.115878    0.702617   \n",
       "min      0.006320    0.000000    0.460000    0.000000    0.385000    3.561000   \n",
       "25%      0.082045    0.000000    5.190000    0.000000    0.449000    5.885500   \n",
       "50%      0.256510    0.000000    9.690000    0.000000    0.538000    6.208500   \n",
       "75%      3.647423   12.500000   18.100000    0.000000    0.624000    6.623500   \n",
       "max     88.976200  100.000000   27.740000    1.000000    0.871000    8.780000   \n",
       "\n",
       "              AGE         DIS         RAD         TAX     PTRATIO           B  \\\n",
       "count  506.000000  506.000000  506.000000  506.000000  506.000000  506.000000   \n",
       "mean    68.574901    3.795043    9.549407  408.237154   18.455534  356.674032   \n",
       "std     28.148861    2.105710    8.707259  168.537116    2.164946   91.294864   \n",
       "min      2.900000    1.129600    1.000000  187.000000   12.600000    0.320000   \n",
       "25%     45.025000    2.100175    4.000000  279.000000   17.400000  375.377500   \n",
       "50%     77.500000    3.207450    5.000000  330.000000   19.050000  391.440000   \n",
       "75%     94.075000    5.188425   24.000000  666.000000   20.200000  396.225000   \n",
       "max    100.000000   12.126500   24.000000  711.000000   22.000000  396.900000   \n",
       "\n",
       "            LSTAT  \n",
       "count  506.000000  \n",
       "mean    12.653063  \n",
       "std      7.141062  \n",
       "min      1.730000  \n",
       "25%      6.950000  \n",
       "50%     11.360000  \n",
       "75%     16.955000  \n",
       "max     37.970000  "
      ]
     },
     "execution_count": 150,
     "metadata": {},
     "output_type": "execute_result"
    }
   ],
   "source": [
    "df1 = pd.DataFrame(dataset.data, columns= dataset.feature_names)\n",
    "df1.describe()"
   ]
  },
  {
   "cell_type": "code",
   "execution_count": 151,
   "metadata": {},
   "outputs": [
    {
     "name": "stdout",
     "output_type": "stream",
     "text": [
      "[88.96988, 100.0, 27.279999999999998, 1.0, 0.486, 5.218999999999999, 97.1, 10.9969, 23.0, 524.0, 9.4, 396.58, 36.24]\n",
      "0.486\n"
     ]
    }
   ],
   "source": [
    "range1= []\n",
    "for i in range(len(df1.columns)):\n",
    "    range1.append(max(df1.iloc[:,i])-min(df1.iloc[:,i]))\n",
    "minrange=min(range1)\n",
    "print(range1)\n",
    "print(minrange)\n",
    "#5th column or NOX has least range\n",
    "#Highest Mean is TAX =408.237154\n",
    "# Highest Variance is also TAX\n"
   ]
  },
  {
   "cell_type": "markdown",
   "metadata": {},
   "source": [
    "# 5th column or NOX has least range\n",
    "# Highest Mean is TAX =408.237154\n",
    "# Highest Variance is also TAX as standard deviation  value is highest!"
   ]
  },
  {
   "cell_type": "markdown",
   "metadata": {},
   "source": [
    "<b>Problem #4-2</b> Feature Scaling\n",
    "\n",
    "<b> Answer the following questions:</b> [4pts]\n",
    "\n",
    "- From the information above, Do you recommend **feature scaling** ? Explain.  \n",
    "\n",
    "- What is a difference between MinMaxScaler and StandardScaler? "
   ]
  },
  {
   "cell_type": "markdown",
   "metadata": {},
   "source": [
    "Answer\n",
    "* Yes It is definitely recommended , as ranges of the features are extremely diverse as seen in range1 variable\n",
    "* MinMax scaler- scales features in  new range from 0 to 1\n",
    "* Standard Scaler- scales features with mean=0 and variance=1\n"
   ]
  },
  {
   "cell_type": "markdown",
   "metadata": {},
   "source": [
    "<b>Problem #4-3</b> Calculate and report **correlations** between variables [4pts]\n",
    "\n",
    "Follow the following steps to answer questions.\n",
    "\n",
    "- Add target to the dataFrame.\n",
    "\n",
    "- Find the correlation matrix that shows the correlation between each pair of variables in the dataframe. <br>\n",
    "\n",
    "- Plot a correlation matrix as heatmap. You can check: https://seaborn.pydata.org/generated/seaborn.heatmap.html\n",
    "\n",
    "\n",
    "\n",
    "<b> Answer the following questions:</b> \n",
    "\n",
    "- What is a difference between positive and negative numbers on the correlation table? Explain.\n",
    "- What is the feature that is most correlated with the target? Do you think it is the most or the least helpful features in predicting the target class? Explain.\n",
    "\n",
    "- What is the correlation between the feature RM and the LSTAT?\n",
    "- What does this value of correlation indicate?"
   ]
  },
  {
   "cell_type": "code",
   "execution_count": 152,
   "metadata": {},
   "outputs": [
    {
     "name": "stdout",
     "output_type": "stream",
     "text": [
      "             CRIM        ZN     INDUS      CHAS       NOX        RM       AGE  \\\n",
      "CRIM     1.000000 -0.199458  0.404471 -0.055295  0.417521 -0.219940  0.350784   \n",
      "ZN      -0.199458  1.000000 -0.533828 -0.042697 -0.516604  0.311991 -0.569537   \n",
      "INDUS    0.404471 -0.533828  1.000000  0.062938  0.763651 -0.391676  0.644779   \n",
      "CHAS    -0.055295 -0.042697  0.062938  1.000000  0.091203  0.091251  0.086518   \n",
      "NOX      0.417521 -0.516604  0.763651  0.091203  1.000000 -0.302188  0.731470   \n",
      "RM      -0.219940  0.311991 -0.391676  0.091251 -0.302188  1.000000 -0.240265   \n",
      "AGE      0.350784 -0.569537  0.644779  0.086518  0.731470 -0.240265  1.000000   \n",
      "DIS     -0.377904  0.664408 -0.708027 -0.099176 -0.769230  0.205246 -0.747881   \n",
      "RAD      0.622029 -0.311948  0.595129 -0.007368  0.611441 -0.209847  0.456022   \n",
      "TAX      0.579564 -0.314563  0.720760 -0.035587  0.668023 -0.292048  0.506456   \n",
      "PTRATIO  0.288250 -0.391679  0.383248 -0.121515  0.188933 -0.355501  0.261515   \n",
      "B       -0.377365  0.175520 -0.356977  0.048788 -0.380051  0.128069 -0.273534   \n",
      "LSTAT    0.452220 -0.412995  0.603800 -0.053929  0.590879 -0.613808  0.602339   \n",
      "target  -0.385832  0.360445 -0.483725  0.175260 -0.427321  0.695360 -0.376955   \n",
      "\n",
      "              DIS       RAD       TAX   PTRATIO         B     LSTAT    target  \n",
      "CRIM    -0.377904  0.622029  0.579564  0.288250 -0.377365  0.452220 -0.385832  \n",
      "ZN       0.664408 -0.311948 -0.314563 -0.391679  0.175520 -0.412995  0.360445  \n",
      "INDUS   -0.708027  0.595129  0.720760  0.383248 -0.356977  0.603800 -0.483725  \n",
      "CHAS    -0.099176 -0.007368 -0.035587 -0.121515  0.048788 -0.053929  0.175260  \n",
      "NOX     -0.769230  0.611441  0.668023  0.188933 -0.380051  0.590879 -0.427321  \n",
      "RM       0.205246 -0.209847 -0.292048 -0.355501  0.128069 -0.613808  0.695360  \n",
      "AGE     -0.747881  0.456022  0.506456  0.261515 -0.273534  0.602339 -0.376955  \n",
      "DIS      1.000000 -0.494588 -0.534432 -0.232471  0.291512 -0.496996  0.249929  \n",
      "RAD     -0.494588  1.000000  0.910228  0.464741 -0.444413  0.488676 -0.381626  \n",
      "TAX     -0.534432  0.910228  1.000000  0.460853 -0.441808  0.543993 -0.468536  \n",
      "PTRATIO -0.232471  0.464741  0.460853  1.000000 -0.177383  0.374044 -0.507787  \n",
      "B        0.291512 -0.444413 -0.441808 -0.177383  1.000000 -0.366087  0.333461  \n",
      "LSTAT   -0.496996  0.488676  0.543993  0.374044 -0.366087  1.000000 -0.737663  \n",
      "target   0.249929 -0.381626 -0.468536 -0.507787  0.333461 -0.737663  1.000000  \n"
     ]
    }
   ],
   "source": [
    "df1['target']=dataset.target\n",
    "print(df1.corr())\n"
   ]
  },
  {
   "cell_type": "markdown",
   "metadata": {},
   "source": [
    "\n",
    "- What is a difference between positive and negative numbers on the correlation table? Explain.\n",
    "# A positive correlation means if 1 variable changes in a direction, the other will change in the same direction ( both will increase or decrease corresponding to each other)\n",
    "# A negative correlation implies an opposing effect where if 1 variable increases, the other decreases\n",
    "- What is the feature that is most correlated with the target? Do you think it is the most or the least helpful features in predicting the target class? Explain.\n",
    "# LStat is the most correlated with a negative correlationof -0.737. Yes high value of +ve or -ve correlation are good indicators.We can verify using p-values.\n",
    "\n",
    "- What is the correlation between the feature RM and the LSTAT?\n",
    "# the correlation between the feature RM and the LSTAT is -0.613808\n",
    "- What does this value of correlation indicate?\n",
    "# They have high negative correlation between each other. This might imply collinearity. We should check p-values."
   ]
  },
  {
   "cell_type": "code",
   "execution_count": 153,
   "metadata": {},
   "outputs": [
    {
     "data": {
      "text/plain": [
       "<matplotlib.axes._subplots.AxesSubplot at 0x191fc929f98>"
      ]
     },
     "execution_count": 153,
     "metadata": {},
     "output_type": "execute_result"
    },
    {
     "data": {
      "image/png": "[encoded data removed]",
      "text/plain": [
       "<Figure size 1152x1152 with 2 Axes>"
      ]
     },
     "metadata": {},
     "output_type": "display_data"
    }
   ],
   "source": [
    "plt.figure(figsize = (16,16))\n",
    "sns.heatmap(df1.corr(),annot=True,linewidths=0.8)\n"
   ]
  },
  {
   "cell_type": "markdown",
   "metadata": {},
   "source": [
    "\n"
   ]
  },
  {
   "cell_type": "markdown",
   "metadata": {},
   "source": [
    "<b>Problem #4-4</b> Scatter plot. [4pts] <br>  \n",
    "- Plot RM versus target variable \n",
    "- Plot TAX versus target variable \n",
    "- Plot LSTAT versus target variable <br> \n",
    "- Comment on each of the above plots. Is the relationship linear or non linear?\n"
   ]
  },
  {
   "cell_type": "code",
   "execution_count": 154,
   "metadata": {},
   "outputs": [
    {
     "data": {
      "text/plain": [
       "<matplotlib.collections.PathCollection at 0x191fd02d9e8>"
      ]
     },
     "execution_count": 154,
     "metadata": {},
     "output_type": "execute_result"
    },
    {
     "data": {
      "image/png": "[encoded data removed]",
      "text/plain": [
       "<Figure size 432x288 with 1 Axes>"
      ]
     },
     "metadata": {},
     "output_type": "display_data"
    }
   ],
   "source": [
    "plt.xlabel('RM')\n",
    "plt.ylabel('Target')\n",
    "plt.scatter(df1.RM,df1.target)\n"
   ]
  },
  {
   "cell_type": "code",
   "execution_count": 155,
   "metadata": {},
   "outputs": [
    {
     "data": {
      "text/plain": [
       "<matplotlib.collections.PathCollection at 0x191fca20048>"
      ]
     },
     "execution_count": 155,
     "metadata": {},
     "output_type": "execute_result"
    },
    {
     "data": {
      "image/png": "[encoded data removed]",
      "text/plain": [
       "<Figure size 432x288 with 1 Axes>"
      ]
     },
     "metadata": {},
     "output_type": "display_data"
    }
   ],
   "source": [
    "plt.xlabel('TAX')\n",
    "plt.ylabel('Target')\n",
    "plt.scatter(df1.TAX,df1.target)"
   ]
  },
  {
   "cell_type": "code",
   "execution_count": 156,
   "metadata": {},
   "outputs": [
    {
     "data": {
      "text/plain": [
       "<matplotlib.collections.PathCollection at 0x191fca6eac8>"
      ]
     },
     "execution_count": 156,
     "metadata": {},
     "output_type": "execute_result"
    },
    {
     "data": {
      "image/png": "[encoded data removed]",
      "text/plain": [
       "<Figure size 432x288 with 1 Axes>"
      ]
     },
     "metadata": {},
     "output_type": "display_data"
    }
   ],
   "source": [
    "plt.xlabel('LSTAT')\n",
    "plt.ylabel('Target')\n",
    "plt.scatter(df1.LSTAT,df1.target)"
   ]
  },
  {
   "cell_type": "markdown",
   "metadata": {},
   "source": [
    "Comment on each of the above plots. Is the relationship linear or non linear?\n",
    "# RM versus target variable (nearly Linear )\n",
    "# TAX versus target variable (nonlinear)\n",
    "# LSTAT versus target variable( nearly quadratic)\n"
   ]
  },
  {
   "cell_type": "markdown",
   "metadata": {},
   "source": [
    "<b>Problem #4-5.</b> \n",
    "\n",
    "- Feel free to use scikit-learn (sklearn library) or write your own code to answer the following questions..\n",
    "- Use train_test_split() with \"random_state=0\n",
    "\n",
    "Answer the following questions [10 points]:\n",
    "\n",
    "1. Fit a linear regression model with RM and LSTAT features only. Find the R-squared metric on train and test sets. \n",
    "2. Fit a linear regression model using RM, LSTAT and include the interaction term (RM * LSTAT). How R-squared metric differs from the previous model without interaction term?\n",
    "3. Fit a linear regression model using LSTAT and include the polynomial term ( $LSTAT^2$).  Find the R-squared metric.\n",
    "4. Fit linear regression model using LSTAT and include the polynomial term ( $LSTAT^2$ and $LSTAT^4$ ). Find the R-squared metric. \n",
    "- How does R-squared metric differ in the previous models ? <br> Comment your observation. "
   ]
  },
  {
   "cell_type": "code",
   "execution_count": 157,
   "metadata": {},
   "outputs": [
    {
     "name": "stdout",
     "output_type": "stream",
     "text": [
      " R2 score with only RM and LSTAT for train and test set\n",
      "0.65978465698869\n",
      "0.5692445415835348\n"
     ]
    }
   ],
   "source": [
    " #Fit a linear regression model with RM and LSTAT features only. Find the R-squared metric on train and test sets.\n",
    "x1=df1[['RM','LSTAT']]\n",
    "y1=df1.target\n",
    "X_train, X_test, Y_train, Y_test= train_test_split(x1, y1, random_state=0)\n",
    "\n",
    "lm1=LinearRegression().fit(X_train,Y_train)\n",
    "# score\n",
    "print(\" R2 score with only RM and LSTAT for train and test set\")\n",
    "print(lm1.score(X_train,Y_train))\n",
    "print(lm1.score(X_test,Y_test))\n",
    "\n"
   ]
  },
  {
   "cell_type": "code",
   "execution_count": 158,
   "metadata": {},
   "outputs": [
    {
     "name": "stdout",
     "output_type": "stream",
     "text": [
      " R2 score with only  RM,LSTAT and RMLSTAT for train and test set\n",
      "0.7646463324677745\n",
      "0.6615207706770683\n"
     ]
    }
   ],
   "source": [
    "#Fit a linear regression model using RM, LSTAT and include the interaction term (RM * LSTAT). How R-squared metric differs from the previous model without interaction term?\n",
    "\n",
    "df1['RMLSTAT']=df1.RM*df1.LSTAT\n",
    "x1=df1[['RM','LSTAT','RMLSTAT']]\n",
    "y1=df1.target\n",
    "\n",
    "X_train, X_test, Y_train, Y_test= train_test_split(x1, y1, random_state=0)\n",
    "\n",
    "lm1=LinearRegression().fit(X_train,Y_train)\n",
    "# score\n",
    "print(\" R2 score with only  RM,LSTAT and RMLSTAT for train and test set\")\n",
    "print(lm1.score(X_train,Y_train))\n",
    "print(lm1.score(X_test,Y_test))\n",
    "\n",
    "\n"
   ]
  },
  {
   "cell_type": "code",
   "execution_count": 160,
   "metadata": {},
   "outputs": [
    {
     "name": "stdout",
     "output_type": "stream",
     "text": [
      " R2 score with only  LSTAT and LSTAT2 for train and test set\n",
      "0.668789207898638\n",
      "0.5518753354137799\n"
     ]
    }
   ],
   "source": [
    "#Fit a linear regression model using LSTAT and include the polynomial term ( $LSTAT^2$).  Find the R-squared metric.\n",
    "\n",
    "df1['LSTAT2']=df1.LSTAT*df1.LSTAT\n",
    "x1=df1[['LSTAT','LSTAT2']]\n",
    "\n",
    "y1=df1.target\n",
    "\n",
    "X_train, X_test, Y_train, Y_test= train_test_split(x1, y1, random_state=0)\n",
    "\n",
    "lm1=LinearRegression().fit(X_train,Y_train)\n",
    "# score\n",
    "print(\" R2 score with only  LSTAT and LSTAT2 for train and test set\")\n",
    "print(lm1.score(X_train,Y_train))\n",
    "print(lm1.score(X_test,Y_test))\n"
   ]
  },
  {
   "cell_type": "code",
   "execution_count": 161,
   "metadata": {},
   "outputs": [
    {
     "name": "stdout",
     "output_type": "stream",
     "text": [
      " R2 score with only  LSTAT,LSTAT2 and LSTAT4 for train and test set\n",
      "0.6801267294823293\n",
      "0.5696493127277786\n"
     ]
    }
   ],
   "source": [
    "# Fit linear regression model using LSTAT and include the polynomial term ( $LSTAT^2$ and $LSTAT^4$ ). Find the R-squared metric.\n",
    "\n",
    "df1['LSTAT4']=df1.LSTAT2*df1.LSTAT2\n",
    "y1=df1.target\n",
    "x1=df1[['LSTAT','LSTAT2','LSTAT4']]\n",
    "\n",
    "X_train, X_test, Y_train, Y_test= train_test_split(x1, y1, random_state=0)\n",
    "\n",
    "lm1=LinearRegression().fit(X_train,Y_train)\n",
    "# score\n",
    "print(\" R2 score with only  LSTAT,LSTAT2 and LSTAT4 for train and test set\")\n",
    "print(lm1.score(X_train,Y_train))\n",
    "print(lm1.score(X_test,Y_test))\n"
   ]
  },
  {
   "cell_type": "markdown",
   "metadata": {},
   "source": [
    "# Case1: RM and LSTAT- For Test Set R2 score is  0.5692445415835348\n",
    "# Case 2:RM,LSTAT and RMLSTAT for Test set R2 score: 0.6615207706770683\n",
    "# case 3: LSTAT and LSTAT2 , the test set R2 score: 0.5518\n",
    "# Case4 : LSTAT,LSTAT2,LSTAT4 the test set R2 score:0.569\n",
    "\n",
    "# this implies that the addition of the interaction term between RM and LSTAT improves the model the most as it has the highest test R2 score. Making the model polynomial with respect to LSTAT has no actual impact and might actually decrease accuracy and add unnecessary complexity\n"
   ]
  },
  {
   "cell_type": "markdown",
   "metadata": {},
   "source": [
    "<b>Problem #4-6.</b> Fit all features (13 features) in the dataset to a multiple linear regression model, and report p-values of all feature [4 pts]<br> \n",
    "\n",
    "- What does p-value represent?\n",
    "- What are the features that have strong association with the target? what are the ones that seem to have week association? <br> \n"
   ]
  },
  {
   "cell_type": "code",
   "execution_count": 128,
   "metadata": {},
   "outputs": [
    {
     "name": "stdout",
     "output_type": "stream",
     "text": [
      "                            OLS Regression Results                            \n",
      "==============================================================================\n",
      "Dep. Variable:                 target   R-squared:                       0.741\n",
      "Model:                            OLS   Adj. R-squared:                  0.734\n",
      "Method:                 Least Squares   F-statistic:                     108.1\n",
      "Date:                Sun, 17 Feb 2019   Prob (F-statistic):          6.95e-135\n",
      "Time:                        15:45:19   Log-Likelihood:                -1498.8\n",
      "No. Observations:                 506   AIC:                             3026.\n",
      "Df Residuals:                     492   BIC:                             3085.\n",
      "Df Model:                          13                                         \n",
      "Covariance Type:            nonrobust                                         \n",
      "==============================================================================\n",
      "                 coef    std err          t      P>|t|      [0.025      0.975]\n",
      "------------------------------------------------------------------------------\n",
      "Intercept     36.4911      5.104      7.149      0.000      26.462      46.520\n",
      "CRIM          -0.1072      0.033     -3.276      0.001      -0.171      -0.043\n",
      "ZN             0.0464      0.014      3.380      0.001       0.019       0.073\n",
      "INDUS          0.0209      0.061      0.339      0.735      -0.100       0.142\n",
      "CHAS           2.6886      0.862      3.120      0.002       0.996       4.381\n",
      "NOX          -17.7958      3.821     -4.658      0.000     -25.302     -10.289\n",
      "RM             3.8048      0.418      9.102      0.000       2.983       4.626\n",
      "AGE            0.0008      0.013      0.057      0.955      -0.025       0.027\n",
      "DIS           -1.4758      0.199     -7.398      0.000      -1.868      -1.084\n",
      "RAD            0.3057      0.066      4.608      0.000       0.175       0.436\n",
      "TAX           -0.0123      0.004     -3.278      0.001      -0.020      -0.005\n",
      "PTRATIO       -0.9535      0.131     -7.287      0.000      -1.211      -0.696\n",
      "B              0.0094      0.003      3.500      0.001       0.004       0.015\n",
      "LSTAT         -0.5255      0.051    -10.366      0.000      -0.625      -0.426\n",
      "==============================================================================\n",
      "Omnibus:                      178.029   Durbin-Watson:                   1.078\n",
      "Prob(Omnibus):                  0.000   Jarque-Bera (JB):              782.015\n",
      "Skew:                           1.521   Prob(JB):                    1.54e-170\n",
      "Kurtosis:                       8.276   Cond. No.                     1.51e+04\n",
      "==============================================================================\n",
      "\n",
      "Warnings:\n",
      "[1] Standard Errors assume that the covariance matrix of the errors is correctly specified.\n",
      "[2] The condition number is large, 1.51e+04. This might indicate that there are\n",
      "strong multicollinearity or other numerical problems.\n",
      "PVALUES:\n",
      "Intercept    3.182440e-12\n",
      "CRIM         1.126402e-03\n",
      "ZN           7.836070e-04\n",
      "INDUS        7.345971e-01\n",
      "CHAS         1.912339e-03\n",
      "NOX          4.117296e-06\n",
      "RM           2.207486e-18\n",
      "AGE          9.546859e-01\n",
      "DIS          6.017651e-13\n",
      "RAD          5.189664e-06\n",
      "TAX          1.117826e-03\n",
      "PTRATIO      1.268218e-12\n",
      "B            5.072875e-04\n",
      "LSTAT        6.595808e-23\n",
      "dtype: float64\n"
     ]
    }
   ],
   "source": [
    "df2=pd.DataFrame(dataset.data,columns= dataset.feature_names)\n",
    "df2['target']=dataset.target\n",
    "df2.head()\n",
    "olsmodel=smf.ols('target ~ CRIM+ZN+INDUS+CHAS+NOX+RM+AGE+DIS+RAD+TAX+PTRATIO+B+LSTAT',df2)\n",
    "fit1=olsmodel.fit()\n",
    "print(fit1.summary())\n",
    "print(\"PVALUES:\")\n",
    "print(fit1.pvalues)"
   ]
  },
  {
   "cell_type": "markdown",
   "metadata": {},
   "source": [
    " What does p-value represent?\n",
    "# A small p-value usually indicates that the null hypothesis doesn't have sufficient validity to remain.here null hypothesis is that the features are not important or indicative of dependence\n",
    " \n",
    "What are the features that have strong association with the target? what are the ones that seem to have week association\n",
    "# Most seem important except AGE AND INDUS \n",
    "# Age has Pvalue=0.954 and Indus=0.734 . Due to this these features should not be considered significant"
   ]
  },
  {
   "cell_type": "markdown",
   "metadata": {},
   "source": [
    "<h3>  Problem #5. Regularization [20 points] </h3>  \n",
    "Regularization will be covered in lecture on Feb 11. \n",
    "\n",
    "\n",
    "- In this problem, we will use the same dataset as in previous question -- the Boston data set.\n",
    "- Scale the features with StandardScaler"
   ]
  },
  {
   "cell_type": "code",
   "execution_count": 164,
   "metadata": {},
   "outputs": [],
   "source": [
    "from sklearn import preprocessing\n",
    "df5 = pd.DataFrame(dataset.data, columns= dataset.feature_names)\n",
    "\n",
    "\n"
   ]
  },
  {
   "cell_type": "code",
   "execution_count": 165,
   "metadata": {},
   "outputs": [],
   "source": [
    "df5.head()\n",
    "df5['target']=dataset.target\n",
    "\n",
    "x5=df5.drop('target',axis=1)\n",
    "y5=df5.target\n",
    "X_train, X_test, Y_train, Y_test= train_test_split(x5, y5, random_state=0)\n",
    "scaler=preprocessing.StandardScaler().fit(X_train)\n",
    "X_trainscaled=scaler.transform(X_train)\n",
    "X_testscaled=scaler.transform(X_test)\n",
    "\n"
   ]
  },
  {
   "cell_type": "markdown",
   "metadata": {},
   "source": [
    "<b>Problem #5-1.</b> Use Ridge regression model with tuning parameter set to 1 (alpha =1). Find the test $R^2$ score and number of non zero coefficients.\n",
    "\n",
    "<b>Problem #5-2.</b>  Use Lasso regression instead of Ridge regression, also set the tuning parameter to 1. Find the test $R^2$ score and number of non zero coefficients.\n",
    "\n",
    "<b>Problem #5-3.</b>  Change the tuning parameter of the Lasso model to a very low value (alpha =0.001). What is the $R^2$ score.\n",
    "\n",
    "<b>Problem #4-4.</b> Comment on your result. \n"
   ]
  },
  {
   "cell_type": "code",
   "execution_count": 168,
   "metadata": {},
   "outputs": [
    {
     "name": "stdout",
     "output_type": "stream",
     "text": [
      "0.6344884687786745\n",
      "13\n"
     ]
    }
   ],
   "source": [
    " #5-1.</b> Use Ridge regression model with tuning parameter set to 1 (alpha =1). Find the test $R^2$ score and number of non zero coefficients.\n",
    "from sklearn.linear_model import Ridge\n",
    "x5=df5.drop('target',axis=1)\n",
    "y5=df5.target\n",
    "rml1=Ridge( ).fit(X_trainscaled, Y_train) \n",
    "\n",
    "print(rml1.score(X_testscaled,Y_test))\n",
    "\n",
    "print(np.sum(rml1.coef_!=0))  \n",
    "    "
   ]
  },
  {
   "cell_type": "code",
   "execution_count": 24,
   "metadata": {},
   "outputs": [
    {
     "name": "stdout",
     "output_type": "stream",
     "text": [
      "0.5656049912104312\n"
     ]
    },
    {
     "data": {
      "text/plain": [
       "5"
      ]
     },
     "execution_count": 24,
     "metadata": {},
     "output_type": "execute_result"
    }
   ],
   "source": [
    "#5-2.</b>  Use Lasso regression instead of Ridge regression, also set the tuning parameter to 1. Find the test $R^2$ score and number of non zero coefficients.\n",
    "from sklearn.linear_model import Lasso\n",
    "lassoModel=Lasso( ).fit(X_train, Y_train)\n",
    "LassoModel1=Lasso(alpha=1).fit(X_trainscaled,Y_train)\n",
    "print(LassoModel1.score(X_testscaled,Y_test))\n",
    "np.sum(LassoModel1.coef_!=0)\n",
    "\n"
   ]
  },
  {
   "cell_type": "code",
   "execution_count": 25,
   "metadata": {},
   "outputs": [
    {
     "name": "stdout",
     "output_type": "stream",
     "text": [
      "0.6352523424770306\n"
     ]
    },
    {
     "data": {
      "text/plain": [
       "13"
      ]
     },
     "execution_count": 25,
     "metadata": {},
     "output_type": "execute_result"
    }
   ],
   "source": [
    " #5-3.</b>  Change the tuning parameter of the Lasso model to a very low value (alpha =0.001). What is the $R^2$ score.\n",
    "lassoModel=Lasso( ).fit(X_trainscaled, Y_train)\n",
    "LassoModel2=Lasso(alpha=0.001). fit(X_trainscaled, Y_train)\n",
    "print(LassoModel2.score(X_testscaled,Y_test))\n",
    "np.sum(LassoModel2.coef_!=0)\n"
   ]
  },
  {
   "cell_type": "markdown",
   "metadata": {},
   "source": [
    "# Ridge regression will not see any decrease in the number of coefficients as its an L2 norm function and its shrinkage penalty only makes the coefficients very small\n",
    "# As the alpha  value increases more features tend towards zero\n",
    "# in the case of alpha=1 , we see equivalent performance of lasso and ridge regression"
   ]
  },
  {
   "cell_type": "markdown",
   "metadata": {},
   "source": [
    "==========================================================================+============================================== <br> ========================================================================================================================="
   ]
  },
  {
   "cell_type": "markdown",
   "metadata": {},
   "source": [
    "### Submission\n",
    "Once you completed the assignment, <br>\n",
    "Name your file in the format of <b style='color:red'>LASTNAME-PITTID-Assignment1.ipynb</b>, and submit it on the courseweb"
   ]
  }
 ],
 "metadata": {
  "kernelspec": {
   "display_name": "Python 3",
   "language": "python",
   "name": "python3"
  },
  "language_info": {
   "codemirror_mode": {
    "name": "ipython",
    "version": 3
   },
   "file_extension": ".py",
   "mimetype": "text/x-python",
   "name": "python",
   "nbconvert_exporter": "python",
   "pygments_lexer": "ipython3",
   "version": "3.6.5"
  }
 },
 "nbformat": 4,
 "nbformat_minor": 2
}
